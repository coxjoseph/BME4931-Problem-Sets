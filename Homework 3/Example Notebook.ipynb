{
 "cells": [
  {
   "cell_type": "markdown",
   "id": "acd9efed",
   "metadata": {},
   "source": [
    "# Homework 3 - Clustering and Dimensional Analysis\n",
    "Unless otherwise noted, the code in this notebook was written by "
   ]
  },
  {
   "cell_type": "markdown",
   "id": "c67da44f",
   "metadata": {},
   "source": [
    "## Instructions\n",
    "*[Instructions to run the notebook]*\n",
    "\n",
    "### Libraries\n",
    "You will need the following non-builtin libraries to run the notebook:\n",
    "1. `numpy`\n",
    "2. `pandas`\n",
    "3. ...\n",
    "\n",
    "### Filestructure\n",
    "*(You can assume we have access to the csv file)*"
   ]
  },
  {
   "cell_type": "code",
   "execution_count": 1,
   "id": "1156ef97",
   "metadata": {},
   "outputs": [],
   "source": [
    "# imports"
   ]
  },
  {
   "cell_type": "markdown",
   "id": "4e9a7a22",
   "metadata": {},
   "source": [
    "## Dataset"
   ]
  },
  {
   "cell_type": "markdown",
   "id": "47f92d4f",
   "metadata": {},
   "source": [
    "*[...]*"
   ]
  },
  {
   "cell_type": "markdown",
   "id": "b4a56260",
   "metadata": {},
   "source": [
    "*[...]*"
   ]
  },
  {
   "cell_type": "code",
   "execution_count": null,
   "id": "c0cbe7b0",
   "metadata": {},
   "outputs": [],
   "source": []
  },
  {
   "cell_type": "code",
   "execution_count": null,
   "id": "6452e582",
   "metadata": {},
   "outputs": [],
   "source": []
  },
  {
   "cell_type": "markdown",
   "id": "a7ff7b32",
   "metadata": {},
   "source": [
    "## PCA "
   ]
  },
  {
   "cell_type": "code",
   "execution_count": null,
   "id": "eb9b919d",
   "metadata": {},
   "outputs": [],
   "source": []
  },
  {
   "cell_type": "code",
   "execution_count": null,
   "id": "bd8f491d",
   "metadata": {},
   "outputs": [],
   "source": []
  },
  {
   "cell_type": "markdown",
   "id": "5e366b44",
   "metadata": {},
   "source": [
    "*[...]*"
   ]
  },
  {
   "cell_type": "code",
   "execution_count": null,
   "id": "79ed7a7b",
   "metadata": {},
   "outputs": [],
   "source": []
  },
  {
   "cell_type": "markdown",
   "id": "82a4de47",
   "metadata": {},
   "source": [
    "*[...]*"
   ]
  },
  {
   "cell_type": "markdown",
   "id": "0901fa21",
   "metadata": {},
   "source": [
    "## K-Means Clustering"
   ]
  },
  {
   "cell_type": "code",
   "execution_count": null,
   "id": "065603bb",
   "metadata": {},
   "outputs": [],
   "source": []
  },
  {
   "cell_type": "code",
   "execution_count": null,
   "id": "9c9bedac",
   "metadata": {},
   "outputs": [],
   "source": []
  },
  {
   "cell_type": "markdown",
   "id": "b7918981",
   "metadata": {},
   "source": [
    "*[...]*"
   ]
  },
  {
   "cell_type": "markdown",
   "id": "77a0f73d",
   "metadata": {},
   "source": [
    "*[...]*"
   ]
  },
  {
   "cell_type": "markdown",
   "id": "ae599a76",
   "metadata": {},
   "source": [
    "## Mean-Shift Clustering"
   ]
  },
  {
   "cell_type": "code",
   "execution_count": null,
   "id": "dab6a84e",
   "metadata": {},
   "outputs": [],
   "source": []
  },
  {
   "cell_type": "code",
   "execution_count": null,
   "id": "f301ae76",
   "metadata": {},
   "outputs": [],
   "source": []
  },
  {
   "cell_type": "markdown",
   "id": "dc530474",
   "metadata": {},
   "source": [
    "*[...]*"
   ]
  },
  {
   "cell_type": "markdown",
   "id": "a78e8679",
   "metadata": {},
   "source": [
    "*[...]*"
   ]
  },
  {
   "cell_type": "markdown",
   "id": "7b7b121f",
   "metadata": {},
   "source": [
    "## Hierarchical Clustering"
   ]
  },
  {
   "cell_type": "code",
   "execution_count": null,
   "id": "0eda507f",
   "metadata": {},
   "outputs": [],
   "source": []
  },
  {
   "cell_type": "code",
   "execution_count": null,
   "id": "34751613",
   "metadata": {},
   "outputs": [],
   "source": []
  },
  {
   "cell_type": "markdown",
   "id": "7daa4a26",
   "metadata": {},
   "source": [
    "*[...]*"
   ]
  },
  {
   "cell_type": "markdown",
   "id": "2a582ac2",
   "metadata": {},
   "source": [
    "*[...]*"
   ]
  },
  {
   "cell_type": "markdown",
   "id": "59434867",
   "metadata": {},
   "source": [
    "## Analysis"
   ]
  },
  {
   "cell_type": "code",
   "execution_count": null,
   "id": "76e19924",
   "metadata": {},
   "outputs": [],
   "source": []
  },
  {
   "cell_type": "code",
   "execution_count": null,
   "id": "580fca82",
   "metadata": {},
   "outputs": [],
   "source": []
  },
  {
   "cell_type": "markdown",
   "id": "e366551d",
   "metadata": {},
   "source": [
    "*[...]*"
   ]
  },
  {
   "cell_type": "markdown",
   "id": "fbe94626",
   "metadata": {},
   "source": [
    "*[...]*"
   ]
  },
  {
   "cell_type": "markdown",
   "id": "71ed6d0c",
   "metadata": {},
   "source": [
    "## Bonus"
   ]
  },
  {
   "cell_type": "code",
   "execution_count": null,
   "id": "c95239c4",
   "metadata": {},
   "outputs": [],
   "source": []
  },
  {
   "cell_type": "code",
   "execution_count": null,
   "id": "04bcbb03",
   "metadata": {},
   "outputs": [],
   "source": []
  },
  {
   "cell_type": "code",
   "execution_count": null,
   "id": "7aac3643",
   "metadata": {},
   "outputs": [],
   "source": []
  },
  {
   "cell_type": "markdown",
   "id": "ac1ac6a2",
   "metadata": {},
   "source": [
    "*[...]*"
   ]
  },
  {
   "cell_type": "markdown",
   "id": "77b24e73",
   "metadata": {},
   "source": [
    "*[...]*"
   ]
  },
  {
   "cell_type": "markdown",
   "id": "0aed4c44",
   "metadata": {},
   "source": [
    "*[...]*"
   ]
  },
  {
   "cell_type": "markdown",
   "id": "30fa4551",
   "metadata": {},
   "source": [
    "## Citations"
   ]
  },
  {
   "cell_type": "markdown",
   "id": "1c12f3a5",
   "metadata": {},
   "source": [
    "*[...]*"
   ]
  }
 ],
 "metadata": {
  "kernelspec": {
   "display_name": "Python 3 (ipykernel)",
   "language": "python",
   "name": "python3"
  },
  "language_info": {
   "codemirror_mode": {
    "name": "ipython",
    "version": 3
   },
   "file_extension": ".py",
   "mimetype": "text/x-python",
   "name": "python",
   "nbconvert_exporter": "python",
   "pygments_lexer": "ipython3",
   "version": "3.9.13"
  }
 },
 "nbformat": 4,
 "nbformat_minor": 5
}
