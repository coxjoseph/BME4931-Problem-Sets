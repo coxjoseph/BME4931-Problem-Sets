{
 "cells": [
  {
   "cell_type": "markdown",
   "id": "61b945fe-7b5e-48f1-b225-3d0627aebb31",
   "metadata": {},
   "source": [
    "# Module 4 Problem Set "
   ]
  },
  {
   "cell_type": "markdown",
   "id": "f0e4f928-9308-4d62-bf91-2a2f1a82fce7",
   "metadata": {},
   "source": [
    "The goals of this problem set are to demonstrate common data cleaning methods and problems and provide an example of some basic plotting that can be used to perform Exploratory Data Analysis."
   ]
  },
  {
   "cell_type": "markdown",
   "id": "26ccf6fb-de62-4dbd-8c86-840c2b99cec3",
   "metadata": {},
   "source": [
    "**IMPORTANT**: If you are running this Problem Set in Google Colab, make sure you are doing so by cloning the Problem Set's GitHub repository. This is done by opening [Google Colab](https://colab.research.google.com/), clicking the \"GitHub\" tab, and then inputting the URL to the GitHub for the Problem Set: "
   ]
  },
  {
   "cell_type": "markdown",
   "id": "56aacbf4-0031-40c2-b102-688e91c5b9b1",
   "metadata": {},
   "source": [
    "**Credit**: the `strep_tb` dataset was sourced from R's [medicaldata](https://github.com/higgi13425/medicaldata/tree/master) package and converted to csv using `pyreadr`."
   ]
  },
  {
   "cell_type": "markdown",
   "id": "f780bbc8-9f4b-43ec-b625-fa6539b737cb",
   "metadata": {},
   "source": [
    "## Data Cleaning and Wrangling"
   ]
  },
  {
   "cell_type": "code",
   "execution_count": 1,
   "id": "e5e8a39f-691f-4f28-98aa-080e2c95e9d4",
   "metadata": {},
   "outputs": [],
   "source": [
    "# import necessary library/libraries for loading csv files\n"
   ]
  },
  {
   "cell_type": "code",
   "execution_count": 2,
   "id": "c8f88c66-b14e-4c88-a7bb-152dcdfa0023",
   "metadata": {},
   "outputs": [],
   "source": [
    "# import the dataset \"EHR_sample.csv\" into a variable named ehr_data, then display the contents of ehr_data\n",
    "#   (Note that the data starts on the third line)\n"
   ]
  },
  {
   "cell_type": "markdown",
   "id": "53c44e2d-4cd8-444b-a83b-f80ab0e007e2",
   "metadata": {},
   "source": [
    "**What are some of the issues you see with this data?** (There should be at least 3 things)"
   ]
  },
  {
   "cell_type": "markdown",
   "id": "60706c22-1c52-4a01-b454-b8a802fec557",
   "metadata": {},
   "source": [
    "[Click here to type]"
   ]
  },
  {
   "cell_type": "markdown",
   "id": "166d390a-c252-4d1e-a504-9d4ab7ae56b2",
   "metadata": {},
   "source": [
    "**How would you fix these issues?** (There are many viable options, make sure you provide *reasoning* for why you choose )"
   ]
  },
  {
   "cell_type": "markdown",
   "id": "06cdc2d2-d1c2-4c4e-87fe-59feabed4c7a",
   "metadata": {},
   "source": [
    "[Click here to type]"
   ]
  },
  {
   "cell_type": "code",
   "execution_count": 3,
   "id": "85a8a126-427f-4955-aeb6-4247b8ef15d1",
   "metadata": {},
   "outputs": [],
   "source": [
    "# Clean the data by fixing the issues you found above. Use the \"+\" in the top left to add new cells below as necessary"
   ]
  },
  {
   "cell_type": "code",
   "execution_count": null,
   "id": "6e66cf7d-bbaf-41c5-9a75-caa4a902d236",
   "metadata": {},
   "outputs": [],
   "source": []
  },
  {
   "cell_type": "code",
   "execution_count": null,
   "id": "ef721ba8-83b4-426d-8da6-a5b564415674",
   "metadata": {},
   "outputs": [],
   "source": []
  },
  {
   "cell_type": "markdown",
   "id": "5d79424b-28c5-4550-aba8-5d95fdb19052",
   "metadata": {},
   "source": [
    "## Exploratory Data Analysis"
   ]
  },
  {
   "cell_type": "code",
   "execution_count": 4,
   "id": "81d234af-0bb5-4f49-9c8d-be2538c785d2",
   "metadata": {},
   "outputs": [],
   "source": [
    "# Load in the dataset `strep_tb.csv` from the `data` directory into a dataframe `strep_tb`, \n",
    "#    print the columnns that exist in the data, \n",
    "#    and display the dataframe"
   ]
  },
  {
   "cell_type": "markdown",
   "id": "547f7101-48ac-4d77-9683-5389c40b3642",
   "metadata": {},
   "source": [
    "Given that our \"result\" is found in the `improved` column, create a stacked bar chart comparing the number of patients that improved and didn't improve based on their recieving of a dose of strep_g (located in the `dose_strep_g` column)."
   ]
  },
  {
   "cell_type": "code",
   "execution_count": 5,
   "id": "3bc9f6a4-f6a4-470c-94a0-a62c438cb1c7",
   "metadata": {},
   "outputs": [],
   "source": [
    "import matplotlib.pyplot as plt\n",
    "import numpy as np\n",
    "\n",
    "# Count the number of total patients that recieved a dose of strep_g\n",
    "#     Note: In the dataset, these are saved as 0 for no dose and 2 for dose\n",
    "#     Note 2: The comments are meant to help here, and do not necessarily point to the most efficient way of doing this\n",
    "\n",
    "# Create a boolean array called which is True when no dose was given and False when a dose was given\n",
    "\n",
    "# Create two arrays of indices - one where a dose was given and one where it wasnt\n",
    "\n",
    "# Count the total number of patients that recieved/didnt recieve a dose\n",
    "\n",
    "# Find indices for improved patients\n",
    "\n",
    "# Use np.intersect1d to count the number of improved patients that did/didnt recieve a dose\n",
    "\n",
    "x = [\"Dose\", \"No Dose\"]\n",
    "# Create 2 variables - y1 and y2 with the following values:\n",
    "# y1 = [number of non-improved patients that recieved a dose, number of non-improved patients that didn't recieve a dose]\n",
    "# y2 = [number of improved patients that recieved a dose, number of improved patients that didn't recieve a dose]\n",
    "\n",
    "plt.bar(x, y1, label='did not improve')\n",
    "plt.bar(x, y2, bottom=y1, label='improved')\n",
    "plt.legend()\n",
    "plt.show()"
   ]
  },
  {
   "cell_type": "markdown",
   "id": "2b3685e3-fcbf-4693-a91d-bf366239d0b8",
   "metadata": {},
   "source": [
    "**Does it look like recieving a dose of strep_g improved patient outcome?**"
   ]
  },
  {
   "cell_type": "markdown",
   "id": "417355e6-d055-41c4-bff7-0999241cbf17",
   "metadata": {},
   "source": [
    "[Click here to type]"
   ]
  },
  {
   "cell_type": "markdown",
   "id": "4d5b1f89-d640-4eb4-8ecd-9c1c00ce054d",
   "metadata": {},
   "source": [
    "**What other plots may be useful for performing EDA? What kind/kinds of data are present? What do we need to keep in mind when making plots of this data?**"
   ]
  },
  {
   "cell_type": "markdown",
   "id": "f967bd73-ea17-4f67-a9d7-53e13079bc6b",
   "metadata": {},
   "source": [
    "[Click here to type]"
   ]
  },
  {
   "cell_type": "markdown",
   "id": "ddf04cc0-bf8e-44e9-83de-61db0f3b687b",
   "metadata": {},
   "source": [
    "You don't have to make these plots right now but it may be good practice on your own time to try to make some and reach out if you have issues/need some syntax help! My office hours are 30 minutes after every Friday class on [Zoom](https://ufl.zoom.us/7286265183)\n",
    "or by appointment through [email](mailto:cox.j@ufl.edu)."
   ]
  },
  {
   "cell_type": "code",
   "execution_count": null,
   "id": "29cf478a-2350-4579-94c6-cbbf25b24335",
   "metadata": {},
   "outputs": [],
   "source": []
  }
 ],
 "metadata": {
  "kernelspec": {
   "display_name": "Python 3 (ipykernel)",
   "language": "python",
   "name": "python3"
  },
  "language_info": {
   "codemirror_mode": {
    "name": "ipython",
    "version": 3
   },
   "file_extension": ".py",
   "mimetype": "text/x-python",
   "name": "python",
   "nbconvert_exporter": "python",
   "pygments_lexer": "ipython3",
   "version": "3.11.3"
  }
 },
 "nbformat": 4,
 "nbformat_minor": 5
}
