{
 "cells": [
  {
   "cell_type": "markdown",
   "id": "c5419ebe",
   "metadata": {},
   "source": [
    "# BME 4931/6938 Module 2 Programming Tutorial \n",
    "## Overview\n",
    "This tutorial is split into 3 informative sections, which I think cover the most important parts to remember from this week's lecture! There is a lot of information in the lecture videos and this tutorial can serve as a nice reference point for the most important parts of the videos. \n",
    "\n",
    "1. Python Basics\n",
    "    - A Fancy Calculator\n",
    "    - Variables\n",
    "    - Functions\n",
    "    - Loops and Iterables\n",
    "    - Conditionals\n",
    "    - Typing in Python\n",
    "    - Object Oriented Programming\n",
    "    - Libraries and More\n",
    "\n",
    "\n",
    "2. Numpy\n",
    "    - Arrays\n",
    "    - Copying\n",
    "    - Indexing \n",
    "\n",
    "\n",
    "3. Pandas\n",
    "    - Series\n",
    "    - Dataframes\n",
    "    - Dealing with data"
   ]
  },
  {
   "cell_type": "markdown",
   "id": "3198b525",
   "metadata": {},
   "source": [
    "### Requirements\n",
    "All you need to run this tutorial is a way to open and run Jupyter Notebook files on your computer! Whether that be locally with an Anaconda or local Python installation or remotely with Google Collab, if you're looking at this file you're already ready to go! "
   ]
  },
  {
   "cell_type": "markdown",
   "id": "c0d1def6",
   "metadata": {},
   "source": [
    "## 1. Python Basics \n",
    "\n",
    "### A Fancy Calculator\n",
    "The first step to any programmer's journey in Python often starts with math. Python, as with many other programming languages, can be used as a simple calculator. For example, the code cell below will output the sum of 9 and 10 below - give it a run."
   ]
  },
  {
   "cell_type": "code",
   "execution_count": 1,
   "id": "c6e69246",
   "metadata": {},
   "outputs": [
    {
     "data": {
      "text/plain": [
       "19"
      ]
     },
     "execution_count": 1,
     "metadata": {},
     "output_type": "execute_result"
    }
   ],
   "source": [
    "9 + 10"
   ]
  },
  {
   "cell_type": "markdown",
   "id": "946f5dba",
   "metadata": {},
   "source": [
    "Addition (`+`), subtraction (`-`), multiplication (`*`), division (`/`), exponentiation (`**` - note that in python this is *not* `^`), modulus (`%`), and floor division (`//`) all exist in python and can be used to perform some rather complex math!"
   ]
  },
  {
   "cell_type": "code",
   "execution_count": 2,
   "id": "f360d39f",
   "metadata": {},
   "outputs": [
    {
     "data": {
      "text/plain": [
       "49.275"
      ]
     },
     "execution_count": 2,
     "metadata": {},
     "output_type": "execute_result"
    }
   ],
   "source": [
    "2 + 7**2 - 3.45 / 2 + 565//3 * 7 % 2"
   ]
  },
  {
   "cell_type": "markdown",
   "id": "cbbe8403",
   "metadata": {},
   "source": [
    "Even though python follows traditional Order of Operations, that... is quite the confusing bit of math.  I find it rather hard to follow. Python lets us use parentheses to not only change the order of operation but also to help *other people* understand your code. The cell below is equivalent to the one above, but much easier to follow."
   ]
  },
  {
   "cell_type": "code",
   "execution_count": 3,
   "id": "83e9ebee",
   "metadata": {},
   "outputs": [
    {
     "data": {
      "text/plain": [
       "49.275"
      ]
     },
     "execution_count": 3,
     "metadata": {},
     "output_type": "execute_result"
    }
   ],
   "source": [
    "2 + (7**2) - (3.45/2) + ((565//3) * 7) % 2"
   ]
  },
  {
   "cell_type": "markdown",
   "id": "90a4a485",
   "metadata": {},
   "source": [
    "This process of making code more understandable, or readable, is *critical* to programming success. Code is written once, but read many times. Make it easier on those reading your code (including you in the future). In this same vein, the pound symbol (`#`) is used in python to mark anything after as a **comment**. Comments are completely ignored by python but seen by those reading your code. They are *incredibly* useful in tagging and writing your code with information about what your code is doing and why. The rest of the code in this notebook will contain comments that describe the code - and you should put them in your code too!"
   ]
  },
  {
   "cell_type": "markdown",
   "id": "cb2be4ef",
   "metadata": {},
   "source": [
    "### Variables"
   ]
  },
  {
   "cell_type": "markdown",
   "id": "7b5cada0",
   "metadata": {},
   "source": [
    "Having a calculator is, admittedly, very mundane and provides little motivation for using any programming language (even Python). **Variables** are where programming begins to differentiate itself from calculators. Variables are, at their core, just names for values. There are very little restrictions on what kind of values you can \"name\" with variables - integers, whole numbers, text: you can even create your own kind of values that you define yourself to later assign to variables (more on that later).\n",
    "\n",
    "In Python, you use the `=` operator (known as the **assignment operator**) to name a variable. The syntax is `name = value`. The code cell below assigns the variable \"first_name\" to the value \"Joseph\". "
   ]
  },
  {
   "cell_type": "code",
   "execution_count": 4,
   "id": "e63486d6",
   "metadata": {},
   "outputs": [],
   "source": [
    "first_name = \"Joseph\""
   ]
  },
  {
   "cell_type": "markdown",
   "id": "776c4e7b",
   "metadata": {},
   "source": [
    "A few things to note:\n",
    "\n",
    "1. Notice the `_` in the variable name. In order to keep things consistent and not confuse readers and Python itself, Python imposes some restrictions on variable names: they cannot contain spaces, start with a number, or contain \"special\" characters like ^, @, or ). Generally speaking, if you name your variables informative words separated by `_`, you wont run into this.\n",
    "\n",
    "2. Notice the quotation marks around Joseph. Since there are so many different \"things\" that a variable can be, different things have their own way of being assigned to variables. If you try to remove the quotes around my name, you will receive an error message! Since variable names are references without quotations, text has to be referenced with quotations or python won't know which one you mean."
   ]
  },
  {
   "cell_type": "markdown",
   "id": "9716bf7d",
   "metadata": {},
   "source": [
    "Variables are not just for show - our \"calculator\" math still works with them, and we can even assign new variables based on the output of our old ones! "
   ]
  },
  {
   "cell_type": "code",
   "execution_count": 5,
   "id": "3fc0e122",
   "metadata": {},
   "outputs": [],
   "source": [
    "systolic_blood_pressure = 120\n",
    "diastolic_blood_pressure = 80\n",
    "\n",
    "# Using the standard equation for mean blood pressure (MBP):\n",
    "#   MBP = DBP + 1/3 SBP\n",
    "mean_blood_pressure = diastolic_blood_pressure + (1/3) * systolic_blood_pressure"
   ]
  },
  {
   "cell_type": "markdown",
   "id": "86ed94a6",
   "metadata": {},
   "source": [
    "That's weird... our code cell didn't output anything at all. Don't worry, nothing broke, we just didn't tell python to display the result anywhere! Python will quietly do what we tell it to and won't bother us with outputting anything unless we tell it to! The way we can tell it to is by using the `print` function. "
   ]
  },
  {
   "cell_type": "code",
   "execution_count": 6,
   "id": "706d7112",
   "metadata": {},
   "outputs": [
    {
     "name": "stdout",
     "output_type": "stream",
     "text": [
      "120.0\n"
     ]
    }
   ],
   "source": [
    "print(mean_blood_pressure)"
   ]
  },
  {
   "cell_type": "markdown",
   "id": "f9e68e4e",
   "metadata": {},
   "source": [
    "There we go! We printed our result.\n",
    "\n",
    "In summary, variables provide a great way of naming our objects and can be used as \"stand-ins\" for values."
   ]
  },
  {
   "cell_type": "markdown",
   "id": "771d8d1c",
   "metadata": {},
   "source": [
    "### Functions\n",
    "\n",
    "In the previous section, we calculated mean blood pressure from a formula. But what if our systolic and diastolic blood pressure changed? You may be tempted to re-assign the varaibles to the new values and re-calculate the equation - something like the below cell:"
   ]
  },
  {
   "cell_type": "code",
   "execution_count": 7,
   "id": "aca0d6c7",
   "metadata": {},
   "outputs": [
    {
     "name": "stdout",
     "output_type": "stream",
     "text": [
      "116.66666666666666\n"
     ]
    }
   ],
   "source": [
    "systolic_blood_pressure = 140\n",
    "diastolic_blood_pressure = 70\n",
    "\n",
    "# Using the standard equation for mean blood pressure (MBP):\n",
    "#   MBP = DBP + 1/3 SBP\n",
    "mean_blood_pressure = diastolic_blood_pressure + (1/3) * systolic_blood_pressure\n",
    "print(mean_blood_pressure)"
   ]
  },
  {
   "cell_type": "markdown",
   "id": "88844a7e",
   "metadata": {},
   "source": [
    "But what if we need to use another set of new values, and then another? It gets very tedious very quickly to copy-paste our formula over and over and over. Rather than doing that, we can create what are known as **functions** - instructions for python to perform specific instructions with given inputs. (Note: sometimes you'll hear these referred to as *methods* as well). The syntax for defining functions is:\n",
    "- `def`: tells python we are defining a function\n",
    "- `function_name`: gives a name to the function\n",
    "- `(input_name(s))`: local variable names for the input(s) to the function, wrapped in parentheses. Functions can have no inputs but the parentheses are not \n",
    "- `:`: tells python that we are done with the \"naming\" part and that an *indented block* of code comes next explaining what to do.\n",
    "- Function code, indented 4 spaces: instructions for python to perform with the input(s).\n",
    "- Optional `return` statement: the \"value\" the function should give back when the calculations are done - useful for assigning variables!\n",
    "\n",
    "See the example below, where I define the `calculate_mean_blood_pressure` function!"
   ]
  },
  {
   "cell_type": "code",
   "execution_count": 8,
   "id": "bc871313",
   "metadata": {},
   "outputs": [],
   "source": [
    "# The triple quotes are a way of creating a multi-line comment\n",
    "def calculate_mean_blood_pressure(systolic, diastolic):\n",
    "    '''Calculate the mean blood pressure from systolic and diastolic blood pressure using the standard equation:\n",
    "    MBP = DBP + 1/3 SBP\n",
    "    '''\n",
    "    \n",
    "    mean_blood_pressure = diastolic + (1/3) * systolic\n",
    "    print(f\"Mean blood pressure is: {mean_blood_pressure}\" )\n",
    "    return mean_blood_pressure"
   ]
  },
  {
   "cell_type": "markdown",
   "id": "378366c5",
   "metadata": {},
   "source": [
    "Now, when we want to display a mean blood pressure given systolic/diastolic measurements, we can use our function instead to save ourselves the calculation lines!\n",
    "\n",
    "**Important:** Functions only change variables within their scope - `calculate_mean_blood_pressure` does *not* change the value of `mean_blood_pressure` outside of the function. The below code block leaves the previously defined value of 116.666 unchanged!"
   ]
  },
  {
   "cell_type": "code",
   "execution_count": 9,
   "id": "d8137cbb",
   "metadata": {},
   "outputs": [
    {
     "name": "stdout",
     "output_type": "stream",
     "text": [
      "Mean blood pressure is: 130.0\n",
      "116.66666666666666\n"
     ]
    }
   ],
   "source": [
    "calculate_mean_blood_pressure(120, 90)  # Doesn't change the value of mean_blood_pressure!\n",
    "print(mean_blood_pressure)"
   ]
  },
  {
   "cell_type": "markdown",
   "id": "85b01297",
   "metadata": {},
   "source": [
    "Instead we need to overwrite with an assignment operator, which will use the value from our return statement!"
   ]
  },
  {
   "cell_type": "code",
   "execution_count": 10,
   "id": "02c44e3a",
   "metadata": {},
   "outputs": [
    {
     "name": "stdout",
     "output_type": "stream",
     "text": [
      "Mean blood pressure is: 130.0\n",
      "130.0\n"
     ]
    }
   ],
   "source": [
    "mean_blood_pressure = calculate_mean_blood_pressure(120, 90)  # Assignment does\n",
    "print(mean_blood_pressure)"
   ]
  },
  {
   "cell_type": "markdown",
   "id": "d8b2fdba",
   "metadata": {},
   "source": [
    "Functions are key building blocks for all of Python, not just machine learning or artificial intelligence! Almost all code you write will in some sense be functions. "
   ]
  },
  {
   "cell_type": "markdown",
   "id": "2e9afc07",
   "metadata": {},
   "source": [
    "### Loops and Iterables\n",
    "Imagine we had 1000 patients, each with their own systolic and diastolic blood pressures, and we needed to calculate the mean BP for each patient. We *could* paste our function 1000 times and give new values each time but that would take *forever*. Instead we can make use of **loops**, which allow us to perform instructions multiple times for each value\n",
    "\n",
    "#### The `for` loop\n",
    "Perhaps the most basic of all loops in Python, the `for` loop allows us to perform actions with a named variable being assigned a value \"for\" each value in a list. Take a look at the example below!"
   ]
  },
  {
   "cell_type": "code",
   "execution_count": 11,
   "id": "27ca0b3b",
   "metadata": {},
   "outputs": [
    {
     "name": "stdout",
     "output_type": "stream",
     "text": [
      "Mean blood pressure is: 120.0\n",
      "Mean blood pressure is: 113.33333333333333\n",
      "Mean blood pressure is: 121.66666666666666\n",
      "Mean blood pressure is: 102.66666666666666\n",
      "Mean blood pressure is: 115.0\n",
      "Mean blood pressure is: 99.33333333333333\n",
      "Mean blood pressure is: 101.66666666666666\n",
      "[120.0, 113.33333333333333, 121.66666666666666, 102.66666666666666, 115.0, 99.33333333333333, 101.66666666666666]\n"
     ]
    }
   ],
   "source": [
    "systolic_bps = [120, 130, 140, 110, 135, 112, 122]  # This is how to define a list in python\n",
    "diastolic_bps = [80,  70,  75,  66,  70,  62,  61]  # Spacing doesnt matter - space things to make them easier to read/pair\n",
    "\n",
    "mean_bps = []  # Haven't calculated them yet\n",
    "\n",
    "# range(number) outputs all numbers from 0 to number.\n",
    "# len(object) returns the number of items in an object \n",
    "for i in range(len(systolic_bps)):  # i is short for index\n",
    "    systolic_bp = systolic_bps[i]\n",
    "    diastolic_bp = diastolic_bps[i]\n",
    "    mean_bps.append(calculate_mean_blood_pressure(systolic_bp, diastolic_bp))\n",
    "print(mean_bps)"
   ]
  },
  {
   "cell_type": "markdown",
   "id": "b68b86b8",
   "metadata": {},
   "source": [
    "For loops in python select values for the loop-variable by **iterating** across objects like lists. This process involves stepping one item at a time and then performing the code in the loop. You may have also noticed that \n",
    "\n",
    "**Python tip:** For loops are *very* powerful tools in python, and with great power comes great responsibility. Many beginning coders like to use loops that start `for i in range(len(variable_name))`. This is almost always never the best way to do things: variables that have a length are also iterable! \n",
    "```py\n",
    "for i in range(len(concentrations)):\n",
    "    concentraion = concentrations[i]\n",
    "    # Math here\n",
    "```\n",
    "Can be much more succinctly written as:\n",
    "```py\n",
    "for concentration in concentrations:\n",
    "    # Math here\n",
    "```\n",
    "\n",
    "The code from the 13th block above can utilize useful built-in python functions like `zip` (which intertwines two lists) to be rewritten much more succinctly as follows:\n",
    "\n",
    "```py\n",
    "mean_bps = []\n",
    "for systolic, diastolic in zip(systolic_bps, diastolic bps):\n",
    "    mean_bps.append(calculate_mean_blood_pressure(systolic_bp, diastolic_bp))\n",
    "```"
   ]
  },
  {
   "cell_type": "markdown",
   "id": "71294351",
   "metadata": {},
   "source": [
    "#### The `while` loop\n",
    "These loops keep running until a certain condition is met. An example is \n",
    "```py\n",
    "x = 0\n",
    "while x < 100:\n",
    "    x = x + 1\n",
    "    print(x)\n",
    "```\n",
    "which will first check to see if x is less than 100, and if it is will add 1 and print the current value. What would you expect the output of that loop to be?"
   ]
  },
  {
   "cell_type": "markdown",
   "id": "c121de24",
   "metadata": {},
   "source": [
    "#### Bonus: List comprehension\n",
    "Oftentimes we want to create lists defined by a common pattern or function call, as we did with `mean_bps` before. Python has a built-in way of performing this through **list comprehension**. By defining a small `for` loop in brackets, Python will efficiently generate a list for us. Check out the code below!"
   ]
  },
  {
   "cell_type": "code",
   "execution_count": 12,
   "id": "9101813b",
   "metadata": {},
   "outputs": [
    {
     "name": "stdout",
     "output_type": "stream",
     "text": [
      "[0, 1, 4, 9, 16, 25, 36, 49, 64, 81, 100, 121, 144, 169, 196, 225, 256, 289, 324, 361]\n"
     ]
    }
   ],
   "source": [
    "squares = [x**2 for x in range(20)]  # Don't forget that ** is exponentiation\n",
    "print(squares)"
   ]
  },
  {
   "cell_type": "markdown",
   "id": "05b58121",
   "metadata": {},
   "source": [
    "### Conditionals\n",
    "Oftentimes in coding we want to do something if certain conditions are met - in our BP example, let's say we want to print a warning if the systolic BP is higher than the recommended 120. The way this is done is through **conditional** statements. The syntax is similar to loops (recall that after a `:` python always expects an indented code block on the next line)."
   ]
  },
  {
   "cell_type": "code",
   "execution_count": 13,
   "id": "6976c159",
   "metadata": {},
   "outputs": [
    {
     "name": "stdout",
     "output_type": "stream",
     "text": [
      "120 is 120 or lower, good job!\n",
      "130 is higher than the recommended 120!\n",
      "140 is higher than the recommended 120!\n",
      "Your systolic BP of 110 is dangerously low!\n",
      "135 is higher than the recommended 120!\n",
      "112 is 120 or lower, good job!\n",
      "122 is higher than the recommended 120!\n"
     ]
    }
   ],
   "source": [
    "for systolic_bp in systolic_bps:  # I hope you didn't already forget loops!\n",
    "    if systolic_bp > 120:\n",
    "        print(f\"{systolic_bp} is higher than the recommended 120!\")  # More on what this \"f\" means in the next section!\n",
    "    # The \"elif,\" short for else-if, lets us select more conditions from the options that don't meet the first condition\n",
    "    elif systolic_bp > 110:      \n",
    "        print(f\"{systolic_bp} is 120 or lower, good job!\")\n",
    "    # \"else\" covers every case not already covered\n",
    "    else: \n",
    "        print(f\"Your systolic BP of {systolic_bp} is dangerously low!\")"
   ]
  },
  {
   "cell_type": "markdown",
   "id": "4435782d",
   "metadata": {},
   "source": [
    "### Typing in Python\n",
    "Python *types* are the differnt kinds of data that python can store - we have been using a few of them throughout this tutorial. The most common types you will find - each type has their own built-in operations that work different ways between them. For example, numbers can be added and subtracted, but not lists or dictionaries! To check a variable's type you can use the built-in function `type`."
   ]
  },
  {
   "cell_type": "code",
   "execution_count": 14,
   "id": "a16bdf82",
   "metadata": {
    "scrolled": true
   },
   "outputs": [
    {
     "name": "stdout",
     "output_type": "stream",
     "text": [
      "<class 'int'>\n",
      "<class 'float'>\n",
      "<class 'complex'>\n",
      "<class 'list'>\n",
      "<class 'range'>\n",
      "<class 'tuple'>\n",
      "<class 'str'>\n",
      "<class 'dict'>\n"
     ]
    }
   ],
   "source": [
    "# Numerical types\n",
    "print(type(1))\n",
    "print(type(1.0))\n",
    "print(type(complex(1, 2)))\n",
    "\n",
    "# Sequence types\n",
    "print(type([1, 2, \"buckle my shoe\"]))\n",
    "print(type(range(5)))\n",
    "print(type((1, 2)))\n",
    "print(type(\"I am a string!\"))\n",
    "# There are also bytes, bytearray, and memoryview, which are beyond the scope of the tutorial\n",
    "\n",
    "# Mapping type\n",
    "print(type({\"a\": 1}))"
   ]
  },
  {
   "cell_type": "markdown",
   "id": "90e41e45",
   "metadata": {},
   "source": [
    "A few typing tips! \n",
    "- Integer types have NO values after a decimal point. They are truncated, not rounded. Accidentially converting to an integer will lose all decimal information\n",
    "- f-strings can be used to include values of variables in your strings! Prepend your quotation marks with f, and reference your variables in brackets (take a look throughout the code in the tutorial for some examples!)"
   ]
  },
  {
   "cell_type": "markdown",
   "id": "1e819406",
   "metadata": {},
   "source": [
    "### Object Oriented Programming\n",
    " Object Oriented Programming (OOP) is one of the more nuanced aspects of modern coding. Briefly, we can define our own **classes**, or \"blueprints\" for a desired variable. We can then create **objects** from these blueprints that act as instances that follow our blueprints! Almost everything we use in Python is an object, especially in machine learning. Many models that we will use in this course will be objects that contain their own functions and variables defined within them. These functions and variables can be accessed with the `.` syntax. A great example is the built-in list class that contains the method `append()` to add a value to the list. "
   ]
  },
  {
   "cell_type": "code",
   "execution_count": 15,
   "id": "8f452eb4",
   "metadata": {},
   "outputs": [
    {
     "name": "stdout",
     "output_type": "stream",
     "text": [
      "[1, 2, 3, 4, 5]\n"
     ]
    }
   ],
   "source": [
    "one_to_five = [1, 2, 3, 4]\n",
    "one_to_five.append(5)  # Using the . to access the function \"append\" for the class \"list\"\n",
    "print(one_to_five)"
   ]
  },
  {
   "cell_type": "markdown",
   "id": "2eaab9c3",
   "metadata": {},
   "source": [
    "### Libraries and More\n",
    "Finally, we can talk a bit about libraries - other python functions and objects nicely packaged and able to be read into our own python files seamlessly. Coding everything ourselves would take significantly too long and it's best to not re-invent the wheel! Python lets us bring in new libraries to the namespace using the `import` statement.\n",
    "\n",
    "Many libraries are published in repositories for us to use, we just need to install them! Python comes packaged with its own package manager called `pip`, which we can use to install packages *from the command line*. To use pip in a jupyter notebook, we need to prepend our code with a shebang (!) to execute the code in a terminal"
   ]
  },
  {
   "cell_type": "code",
   "execution_count": 16,
   "id": "93eb2f80",
   "metadata": {},
   "outputs": [
    {
     "name": "stdout",
     "output_type": "stream",
     "text": [
      "Requirement already satisfied: numpy in e:\\anaconda\\lib\\site-packages (1.21.5)\n"
     ]
    }
   ],
   "source": [
    "!pip install numpy"
   ]
  },
  {
   "cell_type": "markdown",
   "id": "11411f6d",
   "metadata": {},
   "source": [
    "There are a few ways to import libraries once they're installed. The simplest is `import`."
   ]
  },
  {
   "cell_type": "code",
   "execution_count": 17,
   "id": "74523a55",
   "metadata": {},
   "outputs": [
    {
     "name": "stdout",
     "output_type": "stream",
     "text": [
      "2.718281828459045\n"
     ]
    }
   ],
   "source": [
    "import math\n",
    "print(math.exp(1))"
   ]
  },
  {
   "cell_type": "markdown",
   "id": "fc98b856",
   "metadata": {},
   "source": [
    "If we want to take a short list functions or classes from a package, we can use `from ... import ...` to specify what we want to load just those functions into our namespace."
   ]
  },
  {
   "cell_type": "code",
   "execution_count": 18,
   "id": "7f5ffaa7",
   "metadata": {},
   "outputs": [
    {
     "name": "stdout",
     "output_type": "stream",
     "text": [
      "4\n"
     ]
    }
   ],
   "source": [
    "from random import randint, randrange\n",
    "print(randint(1, 10))"
   ]
  },
  {
   "cell_type": "markdown",
   "id": "d97607d1",
   "metadata": {},
   "source": [
    "If we want to use a different name for a package, we can use `import ... as ...` "
   ]
  },
  {
   "cell_type": "code",
   "execution_count": 19,
   "id": "2b1bf53e",
   "metadata": {},
   "outputs": [
    {
     "name": "stdout",
     "output_type": "stream",
     "text": [
      "2.718281828459045\n"
     ]
    }
   ],
   "source": [
    "import numpy as np\n",
    "print(np.exp(1))"
   ]
  },
  {
   "cell_type": "markdown",
   "id": "2286ad44",
   "metadata": {},
   "source": [
    "If we want to load all methods/classes from a library into our namespace we can use the `from ... import *` syntax. **This is NOT recommended, and can very easily cause confusion or overlapping names from libraries that implement two different functions with the same name.** Notice how numpy and math both implement their own `exp` function."
   ]
  },
  {
   "cell_type": "code",
   "execution_count": 20,
   "id": "830a17e2",
   "metadata": {},
   "outputs": [
    {
     "data": {
      "text/plain": [
       "{'a': 1}"
      ]
     },
     "execution_count": 20,
     "metadata": {},
     "output_type": "execute_result"
    }
   ],
   "source": [
    "from json import *\n",
    "loads('{\"a\" : 1}')  # Method loads (short for load string) from json library"
   ]
  },
  {
   "cell_type": "markdown",
   "id": "df35d2ee",
   "metadata": {},
   "source": [
    "That concludes the Python basics section of the tutorial! Now we'll move into some specifics for two libraries that we should be familiar with - numpy and pandas! Lets install them and load them in with the `as` syntax that you'll be seeing throughout your coding career in Python - "
   ]
  },
  {
   "cell_type": "code",
   "execution_count": 21,
   "id": "c3cbbb3b",
   "metadata": {},
   "outputs": [
    {
     "name": "stdout",
     "output_type": "stream",
     "text": [
      "Requirement already satisfied: numpy in e:\\anaconda\\lib\\site-packages (1.21.5)\n",
      "Requirement already satisfied: pandas in e:\\anaconda\\lib\\site-packages (1.4.4)\n",
      "Requirement already satisfied: python-dateutil>=2.8.1 in e:\\anaconda\\lib\\site-packages (from pandas) (2.8.2)\n",
      "Requirement already satisfied: pytz>=2020.1 in e:\\anaconda\\lib\\site-packages (from pandas) (2022.1)\n",
      "Requirement already satisfied: six>=1.5 in e:\\anaconda\\lib\\site-packages (from python-dateutil>=2.8.1->pandas) (1.16.0)\n"
     ]
    }
   ],
   "source": [
    " # Note that multiple packages can be installed with a space\n",
    "!pip install numpy pandas \n",
    "import numpy as np\n",
    "import pandas as pd"
   ]
  },
  {
   "cell_type": "markdown",
   "id": "b6593808",
   "metadata": {},
   "source": [
    " ## 2. Numpy\n",
    " Numpy (commonly seen as np in code) is a python library that provides multi-dimensional array support and allows us to use matrix operations on these arrays. It uses C in the backend, which means that often using numpy is faster for array operations than pure python.\n",
    " \n",
    " ### Numpy Arrays\n",
    " The basic numpy functionality centers around the *array*, which can be created using numpy's built in `array` method and assigned to a variable. Additionally, most numpy functions also return numpy arrays"
   ]
  },
  {
   "cell_type": "code",
   "execution_count": 22,
   "id": "1a8e73f0",
   "metadata": {},
   "outputs": [
    {
     "name": "stdout",
     "output_type": "stream",
     "text": [
      "[1 2 3]\n",
      "[ 0  1  2  3  4  5  6  7  8  9 10 11 12 13 14]\n"
     ]
    }
   ],
   "source": [
    "array_from_list = np.array([1, 2, 3])\n",
    "array_from_range = np.arange(15)\n",
    "print(array_from_list)\n",
    "print(array_from_range)"
   ]
  },
  {
   "cell_type": "markdown",
   "id": "8d027bb0",
   "metadata": {},
   "source": [
    "Arrays have lots of \"metadata\" associated with them - the number of dimensions, the type of the objects inside the array (in numpy arrays can only contain one type of data, though that type can be \"object\" to create arrays with a mix of integers/floats/strings/etc.), the shape of the array, etc."
   ]
  },
  {
   "cell_type": "code",
   "execution_count": 23,
   "id": "572bb895",
   "metadata": {},
   "outputs": [
    {
     "name": "stdout",
     "output_type": "stream",
     "text": [
      "1\n",
      "(15,)\n",
      "int32\n"
     ]
    }
   ],
   "source": [
    "print(array_from_list.ndim)\n",
    "print(array_from_range.shape)\n",
    "# The reshape method changes the dimensions of an array while keeping the order of elements the same\n",
    "print(array_from_range.reshape(3, 5).dtype)  "
   ]
  },
  {
   "cell_type": "markdown",
   "id": "92b3ea8d",
   "metadata": {},
   "source": [
    "#### Array operations\n",
    "As with integers and floats, many math operations also work on our arrays! Most operations on an array happen to each element of the array or act on the entire array at once."
   ]
  },
  {
   "cell_type": "code",
   "execution_count": 24,
   "id": "c12961b6",
   "metadata": {},
   "outputs": [
    {
     "name": "stdout",
     "output_type": "stream",
     "text": [
      "[[ 0  1  2  3]\n",
      " [ 4  5  6  7]\n",
      " [ 8  9 10 11]]\n"
     ]
    }
   ],
   "source": [
    "example_array= np.arange(12).reshape(3,4)\n",
    "print(example_array)"
   ]
  },
  {
   "cell_type": "code",
   "execution_count": 25,
   "id": "d6e6e1ad",
   "metadata": {},
   "outputs": [
    {
     "data": {
      "text/plain": [
       "array([[ 2,  3,  4,  5],\n",
       "       [ 6,  7,  8,  9],\n",
       "       [10, 11, 12, 13]])"
      ]
     },
     "execution_count": 25,
     "metadata": {},
     "output_type": "execute_result"
    }
   ],
   "source": [
    "example_array + 2"
   ]
  },
  {
   "cell_type": "code",
   "execution_count": 26,
   "id": "4ae56caf",
   "metadata": {},
   "outputs": [
    {
     "data": {
      "text/plain": [
       "array([[ 0,  4,  8, 12],\n",
       "       [16, 20, 24, 28],\n",
       "       [32, 36, 40, 44]])"
      ]
     },
     "execution_count": 26,
     "metadata": {},
     "output_type": "execute_result"
    }
   ],
   "source": [
    "example_array * 4"
   ]
  },
  {
   "cell_type": "code",
   "execution_count": 27,
   "id": "ff9181a7",
   "metadata": {},
   "outputs": [
    {
     "data": {
      "text/plain": [
       "66"
      ]
     },
     "execution_count": 27,
     "metadata": {},
     "output_type": "execute_result"
    }
   ],
   "source": [
    "example_array.sum()"
   ]
  },
  {
   "cell_type": "markdown",
   "id": "7c900488",
   "metadata": {},
   "source": [
    "### Indexing\n",
    "We can access data inside of our arrrays by specifying the index of the element(s) we want to access. We can also use slicing syntax (see below) to select multiple concurrent indices, and in a multidimensional array we can select indices for each dimension separated by commas!"
   ]
  },
  {
   "cell_type": "code",
   "execution_count": 28,
   "id": "ef657224",
   "metadata": {},
   "outputs": [
    {
     "data": {
      "text/plain": [
       "array([[ 0,  1,  2,  3],\n",
       "       [ 4,  5,  6,  7],\n",
       "       [ 8,  9, 10, 11]])"
      ]
     },
     "execution_count": 28,
     "metadata": {},
     "output_type": "execute_result"
    }
   ],
   "source": [
    "example_array"
   ]
  },
  {
   "cell_type": "code",
   "execution_count": 29,
   "id": "c1cb4127",
   "metadata": {},
   "outputs": [
    {
     "data": {
      "text/plain": [
       "array([ 8,  9, 10, 11])"
      ]
     },
     "execution_count": 29,
     "metadata": {},
     "output_type": "execute_result"
    }
   ],
   "source": [
    "example_array[2]            # 3rd row in the array"
   ]
  },
  {
   "cell_type": "code",
   "execution_count": 30,
   "id": "e4f06b9c",
   "metadata": {},
   "outputs": [
    {
     "data": {
      "text/plain": [
       "4"
      ]
     },
     "execution_count": 30,
     "metadata": {},
     "output_type": "execute_result"
    }
   ],
   "source": [
    "example_array.flatten()[4]  # Fifth element in the array (flatten makes the array 1 dimensional)"
   ]
  },
  {
   "cell_type": "code",
   "execution_count": 31,
   "id": "28da7bc8",
   "metadata": {},
   "outputs": [
    {
     "data": {
      "text/plain": [
       "7"
      ]
     },
     "execution_count": 31,
     "metadata": {},
     "output_type": "execute_result"
    }
   ],
   "source": [
    "example_array[1, 3]          # Second row, fourth column"
   ]
  },
  {
   "cell_type": "code",
   "execution_count": 32,
   "id": "dc035f8c",
   "metadata": {},
   "outputs": [
    {
     "data": {
      "text/plain": [
       "array([1, 2, 3])"
      ]
     },
     "execution_count": 32,
     "metadata": {},
     "output_type": "execute_result"
    }
   ],
   "source": [
    "example_array[0, 1:4]       # First row, 2nd to 4th entries (the syntax includes start and excludes end)"
   ]
  },
  {
   "cell_type": "markdown",
   "id": "e8d67976",
   "metadata": {},
   "source": [
    "### Copying\n",
    "Some unexpected results may happen when using numpy arrays in your code. Take a look at the code below:"
   ]
  },
  {
   "cell_type": "code",
   "execution_count": 33,
   "id": "8c1779b7",
   "metadata": {},
   "outputs": [
    {
     "name": "stdout",
     "output_type": "stream",
     "text": [
      "[1 3 3]\n"
     ]
    }
   ],
   "source": [
    "array_a = np.array([1, 2, 3])\n",
    "array_b = array_a\n",
    "array_a[1] = 3  # Change the item at index 1 (the second item) to 3\n",
    "print(array_b)"
   ]
  },
  {
   "cell_type": "markdown",
   "id": "003cab54",
   "metadata": {},
   "source": [
    "Array B changed as well as Array A! This is because numpy does not allocate new memory for array b - it just tells python that a and b point to the same object! To mitigate this, we need to use the `copy()` method. There are different types of copy, but as a good rule of thumb, numpy's built in `copy()` is often more than sufficient. If you are dealing with arrays that contain complex objects inside of them, the `copy` library's `deepcopy()` method is good."
   ]
  },
  {
   "cell_type": "code",
   "execution_count": 34,
   "id": "8f677d04",
   "metadata": {},
   "outputs": [
    {
     "name": "stdout",
     "output_type": "stream",
     "text": [
      "[1 2 3]\n"
     ]
    }
   ],
   "source": [
    "array_a = np.array([1, 2, 3])\n",
    "array_b = array_a.copy()\n",
    "array_a[1] = 3 \n",
    "print(array_b)"
   ]
  },
  {
   "cell_type": "markdown",
   "id": "3a4b6a2f",
   "metadata": {},
   "source": [
    "We will continue to work with numpy throughout the weeks, and this section is meant as a basic primer for the library. With few exceptions, each week's tutorial will contain some useful numpy tips for that week's lecture (or just for general knowledge). A great way to see more information is by using Google or ChatGPT for tips, or using the `help` method in python for information about specific numpy functions!"
   ]
  },
  {
   "cell_type": "code",
   "execution_count": 35,
   "id": "0cfab9fc",
   "metadata": {},
   "outputs": [
    {
     "name": "stdout",
     "output_type": "stream",
     "text": [
      "Help on ufunc:\n",
      "\n",
      "exp = <ufunc 'exp'>\n",
      "    exp(x, /, out=None, *, where=True, casting='same_kind', order='K', dtype=None, subok=True[, signature, extobj])\n",
      "    \n",
      "    Calculate the exponential of all elements in the input array.\n",
      "    \n",
      "    Parameters\n",
      "    ----------\n",
      "    x : array_like\n",
      "        Input values.\n",
      "    out : ndarray, None, or tuple of ndarray and None, optional\n",
      "        A location into which the result is stored. If provided, it must have\n",
      "        a shape that the inputs broadcast to. If not provided or None,\n",
      "        a freshly-allocated array is returned. A tuple (possible only as a\n",
      "        keyword argument) must have length equal to the number of outputs.\n",
      "    where : array_like, optional\n",
      "        This condition is broadcast over the input. At locations where the\n",
      "        condition is True, the `out` array will be set to the ufunc result.\n",
      "        Elsewhere, the `out` array will retain its original value.\n",
      "        Note that if an uninitialized `out` array is created via the default\n",
      "        ``out=None``, locations within it where the condition is False will\n",
      "        remain uninitialized.\n",
      "    **kwargs\n",
      "        For other keyword-only arguments, see the\n",
      "        :ref:`ufunc docs <ufuncs.kwargs>`.\n",
      "    \n",
      "    Returns\n",
      "    -------\n",
      "    out : ndarray or scalar\n",
      "        Output array, element-wise exponential of `x`.\n",
      "        This is a scalar if `x` is a scalar.\n",
      "    \n",
      "    See Also\n",
      "    --------\n",
      "    expm1 : Calculate ``exp(x) - 1`` for all elements in the array.\n",
      "    exp2  : Calculate ``2**x`` for all elements in the array.\n",
      "    \n",
      "    Notes\n",
      "    -----\n",
      "    The irrational number ``e`` is also known as Euler's number.  It is\n",
      "    approximately 2.718281, and is the base of the natural logarithm,\n",
      "    ``ln`` (this means that, if :math:`x = \\ln y = \\log_e y`,\n",
      "    then :math:`e^x = y`. For real input, ``exp(x)`` is always positive.\n",
      "    \n",
      "    For complex arguments, ``x = a + ib``, we can write\n",
      "    :math:`e^x = e^a e^{ib}`.  The first term, :math:`e^a`, is already\n",
      "    known (it is the real argument, described above).  The second term,\n",
      "    :math:`e^{ib}`, is :math:`\\cos b + i \\sin b`, a function with\n",
      "    magnitude 1 and a periodic phase.\n",
      "    \n",
      "    References\n",
      "    ----------\n",
      "    .. [1] Wikipedia, \"Exponential function\",\n",
      "           https://en.wikipedia.org/wiki/Exponential_function\n",
      "    .. [2] M. Abramovitz and I. A. Stegun, \"Handbook of Mathematical Functions\n",
      "           with Formulas, Graphs, and Mathematical Tables,\" Dover, 1964, p. 69,\n",
      "           http://www.math.sfu.ca/~cbm/aands/page_69.htm\n",
      "    \n",
      "    Examples\n",
      "    --------\n",
      "    Plot the magnitude and phase of ``exp(x)`` in the complex plane:\n",
      "    \n",
      "    >>> import matplotlib.pyplot as plt\n",
      "    \n",
      "    >>> x = np.linspace(-2*np.pi, 2*np.pi, 100)\n",
      "    >>> xx = x + 1j * x[:, np.newaxis] # a + ib over complex plane\n",
      "    >>> out = np.exp(xx)\n",
      "    \n",
      "    >>> plt.subplot(121)\n",
      "    >>> plt.imshow(np.abs(out),\n",
      "    ...            extent=[-2*np.pi, 2*np.pi, -2*np.pi, 2*np.pi], cmap='gray')\n",
      "    >>> plt.title('Magnitude of exp(x)')\n",
      "    \n",
      "    >>> plt.subplot(122)\n",
      "    >>> plt.imshow(np.angle(out),\n",
      "    ...            extent=[-2*np.pi, 2*np.pi, -2*np.pi, 2*np.pi], cmap='hsv')\n",
      "    >>> plt.title('Phase (angle) of exp(x)')\n",
      "    >>> plt.show()\n",
      "\n"
     ]
    }
   ],
   "source": [
    "help(np.exp)"
   ]
  },
  {
   "cell_type": "markdown",
   "id": "a58adaa8",
   "metadata": {},
   "source": [
    "## 3. Pandas\n",
    "Pandas is a library built on numpy that allows for more complex data \"wrangling\" and easier to understand information. Pandas is traditionally imported as `pd` to save space. Pandas extends the numpy array to allow for a data-structure that labels the columns (called a DataFrame).\n",
    "\n",
    "### Series\n",
    "A series is the smallest building block in Pandas - they act as labelled arrays. We can create them with pd.Series"
   ]
  },
  {
   "cell_type": "code",
   "execution_count": 36,
   "id": "62ae958e",
   "metadata": {},
   "outputs": [
    {
     "data": {
      "text/plain": [
       "a    2.137891\n",
       "b    0.124201\n",
       "c   -0.615638\n",
       "d   -0.528526\n",
       "e   -1.349534\n",
       "dtype: float64"
      ]
     },
     "execution_count": 36,
     "metadata": {},
     "output_type": "execute_result"
    }
   ],
   "source": [
    "s = pd.Series(np.random.randn(5), index=['a', 'b', 'c', 'd', 'e'])\n",
    "s"
   ]
  },
  {
   "cell_type": "markdown",
   "id": "75927165",
   "metadata": {},
   "source": [
    "Note that each element in the array of 5 random numbers has its own lettered label. We can now access these numbers using the label instead of just the index!"
   ]
  },
  {
   "cell_type": "code",
   "execution_count": 37,
   "id": "565c120a",
   "metadata": {},
   "outputs": [
    {
     "data": {
      "text/plain": [
       "2.1378906642839333"
      ]
     },
     "execution_count": 37,
     "metadata": {},
     "output_type": "execute_result"
    }
   ],
   "source": [
    "s['a']"
   ]
  },
  {
   "cell_type": "code",
   "execution_count": 38,
   "id": "3bff987e",
   "metadata": {},
   "outputs": [
    {
     "data": {
      "text/plain": [
       "b    0.124201\n",
       "e   -1.349534\n",
       "dtype: float64"
      ]
     },
     "execution_count": 38,
     "metadata": {},
     "output_type": "execute_result"
    }
   ],
   "source": [
    "s[['b', 'e']]  # Note that we use a list as the index so that numpy doesn't think we are trying to acces multiple dimensions"
   ]
  },
  {
   "cell_type": "markdown",
   "id": "a28ab004",
   "metadata": {},
   "source": [
    "### DataFrame\n",
    "The \"bread and butter\" of pandas is the DataFrame: a 2-Dimensional array, where each row/column is its own series. I find it easiest to think of these as \"spreadsheets.\" There are a few ways to initialize them, but the one that is most commonly used is to initialize from a numpy array and provide column names and row names as below."
   ]
  },
  {
   "cell_type": "code",
   "execution_count": 39,
   "id": "d57d3dab",
   "metadata": {},
   "outputs": [
    {
     "data": {
      "text/html": [
       "<div>\n",
       "<style scoped>\n",
       "    .dataframe tbody tr th:only-of-type {\n",
       "        vertical-align: middle;\n",
       "    }\n",
       "\n",
       "    .dataframe tbody tr th {\n",
       "        vertical-align: top;\n",
       "    }\n",
       "\n",
       "    .dataframe thead th {\n",
       "        text-align: right;\n",
       "    }\n",
       "</style>\n",
       "<table border=\"1\" class=\"dataframe\">\n",
       "  <thead>\n",
       "    <tr style=\"text-align: right;\">\n",
       "      <th></th>\n",
       "      <th>Systolic</th>\n",
       "      <th>Diastolic</th>\n",
       "      <th>Mean</th>\n",
       "    </tr>\n",
       "  </thead>\n",
       "  <tbody>\n",
       "    <tr>\n",
       "      <th>Patient 1</th>\n",
       "      <td>120.0</td>\n",
       "      <td>80.0</td>\n",
       "      <td>120.000000</td>\n",
       "    </tr>\n",
       "    <tr>\n",
       "      <th>Patient 2</th>\n",
       "      <td>130.0</td>\n",
       "      <td>70.0</td>\n",
       "      <td>113.333333</td>\n",
       "    </tr>\n",
       "    <tr>\n",
       "      <th>Patient 3</th>\n",
       "      <td>140.0</td>\n",
       "      <td>75.0</td>\n",
       "      <td>121.666667</td>\n",
       "    </tr>\n",
       "    <tr>\n",
       "      <th>Patient 4</th>\n",
       "      <td>110.0</td>\n",
       "      <td>66.0</td>\n",
       "      <td>102.666667</td>\n",
       "    </tr>\n",
       "    <tr>\n",
       "      <th>Patient 5</th>\n",
       "      <td>135.0</td>\n",
       "      <td>70.0</td>\n",
       "      <td>115.000000</td>\n",
       "    </tr>\n",
       "    <tr>\n",
       "      <th>Patient 6</th>\n",
       "      <td>112.0</td>\n",
       "      <td>62.0</td>\n",
       "      <td>99.333333</td>\n",
       "    </tr>\n",
       "    <tr>\n",
       "      <th>Patient 7</th>\n",
       "      <td>122.0</td>\n",
       "      <td>61.0</td>\n",
       "      <td>101.666667</td>\n",
       "    </tr>\n",
       "  </tbody>\n",
       "</table>\n",
       "</div>"
      ],
      "text/plain": [
       "           Systolic  Diastolic        Mean\n",
       "Patient 1     120.0       80.0  120.000000\n",
       "Patient 2     130.0       70.0  113.333333\n",
       "Patient 3     140.0       75.0  121.666667\n",
       "Patient 4     110.0       66.0  102.666667\n",
       "Patient 5     135.0       70.0  115.000000\n",
       "Patient 6     112.0       62.0   99.333333\n",
       "Patient 7     122.0       61.0  101.666667"
      ]
     },
     "execution_count": 39,
     "metadata": {},
     "output_type": "execute_result"
    }
   ],
   "source": [
    "blood_pressure_data = np.array([systolic_bps, \n",
    "                                diastolic_bps, \n",
    "                                mean_bps]).transpose()\n",
    "blood_pressure_data = pd.DataFrame(blood_pressure_data, \n",
    "                                   index=[f'Patient {num+1}' for num in range(7)],  # Don't forget our list comprehension\n",
    "                                   columns=[\"Systolic\", \"Diastolic\", \"Mean\"])\n",
    "blood_pressure_data"
   ]
  },
  {
   "cell_type": "markdown",
   "id": "45cb505a",
   "metadata": {},
   "source": [
    "You can index DataFrames by row, column, or even both!"
   ]
  },
  {
   "cell_type": "code",
   "execution_count": 40,
   "id": "4389c1ed",
   "metadata": {},
   "outputs": [
    {
     "data": {
      "text/plain": [
       "Patient 1    120.0\n",
       "Patient 2    130.0\n",
       "Patient 3    140.0\n",
       "Patient 4    110.0\n",
       "Patient 5    135.0\n",
       "Patient 6    112.0\n",
       "Patient 7    122.0\n",
       "Name: Systolic, dtype: float64"
      ]
     },
     "execution_count": 40,
     "metadata": {},
     "output_type": "execute_result"
    }
   ],
   "source": [
    "blood_pressure_data['Systolic']"
   ]
  },
  {
   "cell_type": "code",
   "execution_count": 41,
   "id": "a806fc99",
   "metadata": {},
   "outputs": [
    {
     "data": {
      "text/plain": [
       "Systolic     120.0\n",
       "Diastolic     80.0\n",
       "Mean         120.0\n",
       "Name: Patient 1, dtype: float64"
      ]
     },
     "execution_count": 41,
     "metadata": {},
     "output_type": "execute_result"
    }
   ],
   "source": [
    "blood_pressure_data.loc['Patient 1']  # With just column you need to use the .loc method"
   ]
  },
  {
   "cell_type": "code",
   "execution_count": 42,
   "id": "af63fbeb",
   "metadata": {},
   "outputs": [
    {
     "data": {
      "text/plain": [
       "120.0"
      ]
     },
     "execution_count": 42,
     "metadata": {},
     "output_type": "execute_result"
    }
   ],
   "source": [
    "blood_pressure_data['Systolic']['Patient 1']  # Column first, then row "
   ]
  },
  {
   "cell_type": "markdown",
   "id": "36d0c8dd",
   "metadata": {},
   "source": [
    "### Reading CSVs\n",
    "Pandas provides a method for us to easily read in \"spreadsheet\" data saved as Comma Separated Values (csv) files. You can read these CSVs by using the `read_csv()` method and passing a file location. An example syntax can be found below, and we will become much more familiar with this process as the course continues. \n",
    "\n",
    "```py\n",
    "dataframe_from_csv = pd.read_csv(\"~/Desktop/example_csv.csv\", header=0)  # Read first line of the csv as column names\n",
    "```"
   ]
  },
  {
   "cell_type": "markdown",
   "id": "7c7df91c",
   "metadata": {},
   "source": [
    "Similary to numpy, we will be using a lot of pandas throughout the course and useful pandas methods will be presented in the weeks of the tutorials they will be showing up in for the first time (so you dont forget them!)"
   ]
  },
  {
   "cell_type": "code",
   "execution_count": null,
   "id": "fbc577a8",
   "metadata": {},
   "outputs": [],
   "source": []
  }
 ],
 "metadata": {
  "kernelspec": {
   "display_name": "Python 3 (ipykernel)",
   "language": "python",
   "name": "python3"
  },
  "language_info": {
   "codemirror_mode": {
    "name": "ipython",
    "version": 3
   },
   "file_extension": ".py",
   "mimetype": "text/x-python",
   "name": "python",
   "nbconvert_exporter": "python",
   "pygments_lexer": "ipython3",
   "version": "3.9.13"
  }
 },
 "nbformat": 4,
 "nbformat_minor": 5
}
