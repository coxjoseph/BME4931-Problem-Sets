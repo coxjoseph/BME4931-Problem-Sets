{
 "cells": [
  {
   "cell_type": "markdown",
   "id": "765a4d11",
   "metadata": {},
   "source": [
    "# Module 5 Problem Set"
   ]
  },
  {
   "cell_type": "markdown",
   "id": "0e69d79e",
   "metadata": {},
   "source": [
    "## Requirements\n",
    "If you don't have them installed, you will need the following packages for this Problem Set:\n",
    "\n",
    "- pandas\n",
    "- scikit-learn\n",
    "- matplotlib"
   ]
  },
  {
   "cell_type": "markdown",
   "id": "757cdc85",
   "metadata": {},
   "source": [
    "## Overview: \n",
    "As a review from this and last week's module lessons, we will cover:\n",
    "1. The final plotting section from last week's set that we didn't get to\n",
    "2. Feature Extraction \n",
    "3. K-Nearest Neighbors (KNN) implementation\n",
    "\n",
    "As with last week, credit for the strep_tb dataset goes to R's medicaldata package."
   ]
  },
  {
   "cell_type": "markdown",
   "id": "2761815a",
   "metadata": {},
   "source": [
    "## Colab:\n",
    "If you are running this in Google Colab, run the following two cells to access the data you might need"
   ]
  },
  {
   "cell_type": "code",
   "execution_count": null,
   "id": "0f83c0a2",
   "metadata": {},
   "outputs": [],
   "source": [
    "from google.colab import drive\n",
    "drive.mount('/content/drive')  # May prompt for an authentication token "
   ]
  },
  {
   "cell_type": "code",
   "execution_count": null,
   "id": "5763c0d1",
   "metadata": {},
   "outputs": [],
   "source": [
    "!git clone https://github.com/coxjoseph/BME4931-Problem-Sets | git pull\n",
    "!cd BME4931-Problem-Sets/module5/Module_5_Problem_Set"
   ]
  },
  {
   "cell_type": "markdown",
   "id": "16d2646a",
   "metadata": {},
   "source": [
    "## Part 1: Bar Chart Plotting"
   ]
  },
  {
   "cell_type": "code",
   "execution_count": null,
   "id": "50f44e82",
   "metadata": {},
   "outputs": [],
   "source": [
    "# Import the data from last week\n",
    "import matplotlib.pyplot as plt\n",
    "import numpy as np\n",
    "import pandas as pd\n",
    "\n",
    "strep_tb = pd.read_csv('./data/strep_tb.csv')\n",
    "\n",
    "# Count the number of total patients that recieved a dose of strep_g\n",
    "#     Note 1: In the dataset, these are saved as 0 for no dose and 2 for dose\n",
    "#     Note 2: The comments are meant to help show what I think is the easiest way to do this\n",
    "#             and do not necessarily point to the most efficient way of doing this.\n",
    "\n",
    "# Create a boolean array called which is True when no dose was given and False when a dose was given\n",
    "\n",
    "\n",
    "# Create two arrays of indices - one where a dose was given and one where it wasnt\n",
    "\n",
    "\n",
    "# Count the total number of patients that recieved/didnt recieve a dose\n",
    "\n",
    "\n",
    "# Find indices for improved patients\n",
    "\n",
    "\n",
    "# Use np.intersect1d to count the number of improved patients that did/didnt recieve a dose\n",
    "\n",
    "\n",
    "x = [\"Dose\", \"No Dose\"]\n",
    "# Create 2 variables - y1 and y2 with the following values:\n",
    "# y1 = [number of non-improved patients that recieved a dose, number of non-improved patients that didn't recieve a dose]\n",
    "# y2 = [number of improved patients that recieved a dose, number of improved patients that didn't recieve a dose]\n",
    "y1 = [total_dose - num_improved_dose, total_no_dose - num_improved_no_dose]  # total - improved = not improved\n",
    "y2 = [num_improved_dose, num_improved_no_dose]\n",
    "\n",
    "# Use plt.bar to plot each bar graph.\n",
    "#     Hint: look into the \"bottom\" keyword argument in plt.bar\n",
    "plt.legend()\n",
    "plt.show()"
   ]
  },
  {
   "cell_type": "markdown",
   "id": "8564afb6",
   "metadata": {},
   "source": [
    "## Part 2: Feature Extraction\n",
    "In the data directory, the short file `temperatures.json` contains temperature and weight measurements for patients presenting to emergency rooms in hospitals in 5 different cities. (Note: JavaScript Object Notation (JSON) files are just another way of storing relational data. They function very similarly to dictionaries in Python."
   ]
  },
  {
   "cell_type": "code",
   "execution_count": null,
   "id": "9bc3c8f4",
   "metadata": {},
   "outputs": [],
   "source": [
    "import json\n",
    "\n",
    "with open('./data/temperatures.json') as json_file:  # To interact with files, it is often best to use with open('file'):\n",
    "    # Look at the documentation for json.load() to assign our json_file variable to a variable called json_data\n"
   ]
  },
  {
   "cell_type": "markdown",
   "id": "104e4fed",
   "metadata": {},
   "source": [
    "**What type is the varaible `json_data`? What type are the elements of `json_data`?**"
   ]
  },
  {
   "cell_type": "code",
   "execution_count": null,
   "id": "0758347d",
   "metadata": {},
   "outputs": [],
   "source": []
  },
  {
   "cell_type": "markdown",
   "id": "a56a040d",
   "metadata": {},
   "source": [
    "Click here to type"
   ]
  },
  {
   "cell_type": "markdown",
   "id": "8254ae59",
   "metadata": {},
   "source": [
    "**Let's say we wanted to predict which city someone was from (of those 5) given their temperatures. Which variable is our predictor/independent variable? Which is our dependent variable?**"
   ]
  },
  {
   "cell_type": "markdown",
   "id": "b067a48d",
   "metadata": {},
   "source": [
    "Click here to type"
   ]
  },
  {
   "cell_type": "markdown",
   "id": "585edbe4",
   "metadata": {},
   "source": [
    "**I want to use a classifier to predict this data, and I noticed that the city data is not in a good form to make a ML predictor. so I will assign the city variables values from 0 to 4 and convert the string data for city to these values. Is this a good way to do this? Why/why not?**"
   ]
  },
  {
   "cell_type": "markdown",
   "id": "deb5679d",
   "metadata": {},
   "source": [
    "Click here to type"
   ]
  },
  {
   "cell_type": "markdown",
   "id": "d0ba94a5",
   "metadata": {},
   "source": [
    "**Using scikit-learn's DictVectorizer, perform one-hot encoding on our data (*Hint*: https://scikit-learn.org/stable/modules/feature_extraction.html). By the end of this cell you should have a pandas dataframe with 6 columns.**"
   ]
  },
  {
   "cell_type": "code",
   "execution_count": null,
   "id": "7dd3685b",
   "metadata": {},
   "outputs": [],
   "source": [
    "from sklearn.feature_extraction import DictVectorizer\n",
    "\n",
    "# Initialize a vectorizer\n",
    "\n",
    "# Transform the data\n",
    "\n",
    "# Convert to numpy array\n",
    "\n",
    "# Find the column names, and format them appropriately\n",
    "\n",
    "# Convert to DataFrame and display\n"
   ]
  },
  {
   "cell_type": "markdown",
   "id": "06d34463",
   "metadata": {},
   "source": [
    "## Part 3: KNNs\n",
    "**Let's see if we can predict the s_rank based on the temperature and weight. Subset temperature and weight into one varaiable, and s_rank into another.**"
   ]
  },
  {
   "cell_type": "code",
   "execution_count": null,
   "id": "09f66f38",
   "metadata": {},
   "outputs": [],
   "source": [
    "predictors = %%%%%\n",
    "outcomes   = %%%%%"
   ]
  },
  {
   "cell_type": "markdown",
   "id": "daabe5ba",
   "metadata": {},
   "source": [
    "**We want to now use K-nearest neighbors to try to  our data into K different groups. How many groups do you think we need? Why?**"
   ]
  },
  {
   "cell_type": "markdown",
   "id": "4b329b97",
   "metadata": {},
   "source": [
    "Click here to type"
   ]
  },
  {
   "cell_type": "markdown",
   "id": "5a2a3a87",
   "metadata": {},
   "source": [
    "**Use KNeighborsClassifer to fit a classifier with an appropriately chosen K for our input data**."
   ]
  },
  {
   "cell_type": "code",
   "execution_count": null,
   "id": "16cedacb",
   "metadata": {},
   "outputs": [],
   "source": [
    "from sklearn.neighbors import KNeighborsClassifier\n",
    "\n",
    "# Hint: Initialize, then use .fit\n",
    "nn_classifier = %%%%%"
   ]
  },
  {
   "cell_type": "markdown",
   "id": "a69cad41",
   "metadata": {},
   "source": [
    "*The next few cells are a bit beyond the scope of the Problem Set - they will plot our KNN model using a meshgrid*"
   ]
  },
  {
   "cell_type": "code",
   "execution_count": null,
   "id": "4f0e305a",
   "metadata": {},
   "outputs": [],
   "source": [
    "import matplotlib.pyplot as plt\n",
    "from matplotlib.colors import ListedColormap\n",
    "\n",
    "h = .1  # step size in the mesh\n",
    "\n",
    "cmap_light = ListedColormap(['r', 'b', 'm', 'g', 'y'])  # Just some colors\n",
    "\n",
    "# Calculate min, max and limits\n",
    "x_min, x_max = predictors[:, 0].min() - 1, predictors[:, 0].max() + 1\n",
    "y_min, y_max = predictors[:, 1].min() - 1, predictors[:, 1].max() + 1\n",
    "xx, yy = np.meshgrid(np.arange(x_min, x_max, h),\n",
    "                     np.arange(y_min, y_max, h))"
   ]
  },
  {
   "cell_type": "code",
   "execution_count": null,
   "id": "3c79c504",
   "metadata": {},
   "outputs": [],
   "source": [
    "Z = nn_classifer.predict(np.c_[xx.ravel(), yy.ravel()])\n",
    "\n",
    "# Put the result into a color plot\n",
    "Z = Z.reshape(xx.shape)\n",
    "plt.style.use('ggplot')\n",
    "plt.figure()\n",
    "plt.pcolormesh(xx, yy, Z, cmap=cmap_light, alpha=0.4)\n",
    "\n",
    "# Plot also the training points\n",
    "plt.scatter(predictors[:, 0], predictors[:, 1], c=outcomes, cmap=cmap_light,\n",
    "            edgecolor='k', s=20)\n",
    "plt.xlabel('Temperature')\n",
    "plt.ylabel('Weight')\n",
    "plt.xlim(xx.min(), xx.max())\n",
    "plt.ylim(yy.min(), yy.max())\n",
    "plt.title(\"KNN classification with 5 Classes\")\n",
    "plt.show()"
   ]
  },
  {
   "cell_type": "markdown",
   "id": "968c9917",
   "metadata": {},
   "source": [
    "**Provide some analysis of the chart!**"
   ]
  },
  {
   "cell_type": "markdown",
   "id": "fe266655",
   "metadata": {},
   "source": [
    "Click here to type"
   ]
  }
 ],
 "metadata": {
  "kernelspec": {
   "display_name": "Python 3 (ipykernel)",
   "language": "python",
   "name": "python3"
  },
  "language_info": {
   "codemirror_mode": {
    "name": "ipython",
    "version": 3
   },
   "file_extension": ".py",
   "mimetype": "text/x-python",
   "name": "python",
   "nbconvert_exporter": "python",
   "pygments_lexer": "ipython3",
   "version": "3.9.13"
  }
 },
 "nbformat": 4,
 "nbformat_minor": 5
}
