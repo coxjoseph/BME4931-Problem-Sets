{
 "cells": [
  {
   "cell_type": "markdown",
   "id": "ef823bb1-e3c6-4ece-b895-06cfd273f114",
   "metadata": {},
   "source": [
    "# Module 6 Problem Set"
   ]
  },
  {
   "cell_type": "markdown",
   "id": "5d579b48-ba7d-4715-a3ce-c94626150267",
   "metadata": {},
   "source": [
    "## Overview\n",
    "This problem set contains some examples of two types of models discussed in Friday's lectures: decision trees and random forests. **The code in this Problem Set should be very applicable to Homework 1's section on Decision Trees**. "
   ]
  },
  {
   "cell_type": "code",
   "execution_count": null,
   "id": "847b37ca-8713-4f86-abbc-bffe6fee2495",
   "metadata": {},
   "outputs": [],
   "source": [
    "import pandas as pd\n",
    "import numpy as np\n",
    "import matplotlib.pyplot as plt\n",
    "from sklearn.tree import DecisionTreeRegressor, DecisionTreeClassifier, plot_tree\n",
    "from sklearn.ensemble import RandomForestRegressor, RandomForestClassifier\n",
    "from sklearn.model_selection import train_test_split\n",
    "import random"
   ]
  },
  {
   "cell_type": "markdown",
   "id": "b9a90422-729f-42eb-a14c-aca0a6fc7b80",
   "metadata": {},
   "source": [
    "## Reproducibility"
   ]
  },
  {
   "cell_type": "markdown",
   "id": "e93c0f4b-4498-4475-aa76-fe4d098d2ab5",
   "metadata": {},
   "source": [
    "Often when working with ML data we will perform some random actions (e.g., splitting randomly our training/validation/testing data or performing random transforms). To aid with reproducibility we can set the random state for numpy and python's random modules by speficifying the seed parameter as done in the cell below. *When training your own models, especially larger-scale \"deep learning\" models, this can negatively impact the speed of training.*"
   ]
  },
  {
   "cell_type": "code",
   "execution_count": null,
   "id": "e7659f7f-c11c-4e48-b2c4-42cc81521422",
   "metadata": {},
   "outputs": [],
   "source": [
    "np.random.seed(3621)\n",
    "random.seed(3621)"
   ]
  },
  {
   "cell_type": "markdown",
   "id": "9e49af6c-e5e9-47bf-8e0b-986782158995",
   "metadata": {},
   "source": [
    "## Data"
   ]
  },
  {
   "cell_type": "markdown",
   "id": "b1e76941-edd6-4fce-9b44-de667a0c220e",
   "metadata": {},
   "source": [
    "The dataset we will be using for today's Problem Set comes from the BUPA Medical Research Ltd. database (donated by Richard S. Forsyth). This data is licensed under the CC BY 4.0 license. A link to the dataset can be found [here](https://archive.ics.uci.edu/dataset/60/liver+disorders)."
   ]
  },
  {
   "cell_type": "code",
   "execution_count": null,
   "id": "4b6d426e-bde3-4f52-b474-03a36f613be7",
   "metadata": {},
   "outputs": [],
   "source": [
    "# Loading the dataset as normal\n",
    "liver_disorders = pd.read_csv('data/bupa.csv', header=0)\n",
    "liver_disorders"
   ]
  },
  {
   "cell_type": "markdown",
   "id": "1ae845ca-437f-406d-b3dd-4f4456cee9a1",
   "metadata": {},
   "source": [
    "Our goal will be to predict the number of drinks (in half-pints) from an indivudual (the `drinks` column) based on the other predictors in the file. **Separate the target from the predictors.**"
   ]
  },
  {
   "cell_type": "code",
   "execution_count": null,
   "id": "408f7258-729b-47fc-be3e-f62a19d6dd5c",
   "metadata": {},
   "outputs": [],
   "source": []
  },
  {
   "cell_type": "markdown",
   "id": "ae1f5d11-f872-494b-856c-5d82932791b9",
   "metadata": {},
   "source": [
    "**Split the data into training and testing data, using an 80/20 split.**"
   ]
  },
  {
   "cell_type": "code",
   "execution_count": null,
   "id": "a92e00b5-db43-4a2b-80e8-25d7fdcbe266",
   "metadata": {},
   "outputs": [],
   "source": []
  },
  {
   "cell_type": "markdown",
   "id": "1bd9c254-f902-47d2-b6fd-006deb16c069",
   "metadata": {},
   "source": [
    "## Decision Tree"
   ]
  },
  {
   "cell_type": "markdown",
   "id": "9eef762d-6d18-4e29-8c58-ca5d3735f9ef",
   "metadata": {},
   "source": [
    "**Using either a DecisionTreeRegressor or a DecisionTreeClassifier, fit a Decison Tree to our data. Why did you use the Class you chose?**"
   ]
  },
  {
   "cell_type": "code",
   "execution_count": null,
   "id": "44c9b26a-6422-41ef-8fab-94e903f9d02a",
   "metadata": {},
   "outputs": [],
   "source": []
  },
  {
   "cell_type": "markdown",
   "id": "4e78bebd-6990-4f69-bf79-eac1c17e26c9",
   "metadata": {},
   "source": [
    "**Use the plot_tree method (already imported) to plot your tree**"
   ]
  },
  {
   "cell_type": "code",
   "execution_count": null,
   "id": "1e82835d-84a9-49e9-9b5e-f3d1ce80a9b2",
   "metadata": {},
   "outputs": [],
   "source": [
    "plt.figure(figsize=(10,8))\n",
    "# Add your one line of code below \n",
    "\n",
    "plt.show()  # plt.show will remove all of the weird print statements before the figure"
   ]
  },
  {
   "cell_type": "markdown",
   "id": "456b1894-11e2-4bed-bbcc-9c793f5fe3ab",
   "metadata": {},
   "source": [
    "**Is there something that may be an issue with our tree?**"
   ]
  },
  {
   "cell_type": "markdown",
   "id": "20b8c421-a68c-4db1-ac40-c1c559cbcd99",
   "metadata": {},
   "source": [
    "[Type here]"
   ]
  },
  {
   "cell_type": "markdown",
   "id": "9ef3eb48-96db-492b-968a-6219ad0079d1",
   "metadata": {},
   "source": [
    "**Evaluate the tree on our training and testing dataset using mean squared error (Why MSE and not accuracy?).**"
   ]
  },
  {
   "cell_type": "code",
   "execution_count": null,
   "id": "33b4e944-5525-4758-8300-443c6c8c58ee",
   "metadata": {},
   "outputs": [],
   "source": [
    "from sklearn.metrics import mean_squared_error\n",
    "\n",
    "# Create variables for our predictions on both the training and testing sets\n",
    "\n",
    "\n",
    "# Create variables to store our error\n",
    "\n",
    "\n",
    "# Fill in the f-string\n",
    "print(f'Model obtained MSE of {} on the training set and '\n",
    "      f'{} on the testing set')"
   ]
  },
  {
   "cell_type": "markdown",
   "id": "1e3efabc-a109-4a95-ba09-c78cf1ecffc0",
   "metadata": {},
   "source": [
    "**What is happening with our model? How can we fix this?**"
   ]
  },
  {
   "cell_type": "markdown",
   "id": "2af39642-f545-4e7b-aee8-ee8f358d57b8",
   "metadata": {},
   "source": [
    "[Type here]"
   ]
  },
  {
   "cell_type": "markdown",
   "id": "192d022a-3694-44d4-b0d5-318a3a6b8fa9",
   "metadata": {},
   "source": [
    "**By default, our tree is fit using squared error as the criterion. Create a new tree using absolute error as the criterion, and prune our tree by setting the maximum depth of our tree to be 4.**"
   ]
  },
  {
   "cell_type": "code",
   "execution_count": null,
   "id": "4ea719a9-5668-41ab-b0ad-8dab7a67d193",
   "metadata": {},
   "outputs": [],
   "source": []
  },
  {
   "cell_type": "markdown",
   "id": "16350bad-c2e6-4542-a65e-79d843d52201",
   "metadata": {},
   "source": [
    "**Show our tree, and evaluate the tree on the training and testing dataset.**"
   ]
  },
  {
   "cell_type": "code",
   "execution_count": null,
   "id": "09071597-cbe3-4266-aedd-857286c5988a",
   "metadata": {},
   "outputs": [],
   "source": [
    "plt.figure(figsize=(18, 8))\n",
    "# Plot the tree as we did last time. You can use the fontsize keyword argument to make it more readable\n",
    "\n",
    "plt.show()\n",
    "\n",
    "# Make varaibles for our predictions (training and testing)\n",
    "\n",
    "\n",
    "# Make variables for our error\n",
    "\n",
    "\n",
    "# Fill in the f-string\n",
    "print(f'Model obtained MSE of {} on the training set and '\n",
    "      f'{} on the testing set')"
   ]
  },
  {
   "cell_type": "markdown",
   "id": "5e4f0057-fe62-4abb-846b-c054ad88e327",
   "metadata": {},
   "source": [
    "**Did the pruning help? How can we decide which is the best max_depth for our tree?**"
   ]
  },
  {
   "cell_type": "markdown",
   "id": "659e374b-0432-448f-8f01-ea9c41ca34cc",
   "metadata": {},
   "source": [
    "[Type here]"
   ]
  },
  {
   "cell_type": "markdown",
   "id": "e5906b8b-3b40-4cb1-853c-56e408374d3b",
   "metadata": {},
   "source": [
    "## Random Forest "
   ]
  },
  {
   "cell_type": "markdown",
   "id": "b987f5c5-2c50-482e-9d4d-cda00ad478f2",
   "metadata": {},
   "source": [
    "**What is a Random Forest?**"
   ]
  },
  {
   "cell_type": "markdown",
   "id": "36f16e9e-eca8-4915-8c48-d48cfb13a510",
   "metadata": {},
   "source": [
    "[Type here]"
   ]
  },
  {
   "cell_type": "markdown",
   "id": "40b19671-649c-4a19-972c-373c61a24dce",
   "metadata": {},
   "source": [
    "**Create and fit random forest model for our data with max_depth set to 5.**"
   ]
  },
  {
   "cell_type": "code",
   "execution_count": null,
   "id": "0ed3f30a-787b-4e91-bac1-8ef12028e874",
   "metadata": {},
   "outputs": [],
   "source": []
  },
  {
   "cell_type": "markdown",
   "id": "143fc4ad-f33a-4075-858d-db7bd54616a0",
   "metadata": {},
   "source": [
    "**Evaluate our Random Forest. Was it better than our normal decision tree?**"
   ]
  },
  {
   "cell_type": "code",
   "execution_count": null,
   "id": "14627473-71cb-473c-bdaa-6f2873ad992b",
   "metadata": {},
   "outputs": [],
   "source": [
    "# Prediction variables\n",
    "\n",
    "\n",
    "# Error variables \n",
    "\n",
    "\n",
    "# Fill in f-string\n",
    "print(f'Model obtained MSE of {} on the training set and '\n",
    "      f'{} on the testing set')"
   ]
  },
  {
   "cell_type": "markdown",
   "id": "3f7f3325-e988-4964-86ad-33198f3e6ede",
   "metadata": {},
   "source": [
    "[Type here]"
   ]
  },
  {
   "cell_type": "code",
   "execution_count": null,
   "id": "619a0399-07dd-487f-96b2-11f0700e1b77",
   "metadata": {},
   "outputs": [],
   "source": []
  }
 ],
 "metadata": {
  "kernelspec": {
   "display_name": "Python 3 (ipykernel)",
   "language": "python",
   "name": "python3"
  },
  "language_info": {
   "codemirror_mode": {
    "name": "ipython",
    "version": 3
   },
   "file_extension": ".py",
   "mimetype": "text/x-python",
   "name": "python",
   "nbconvert_exporter": "python",
   "pygments_lexer": "ipython3",
   "version": "3.11.3"
  }
 },
 "nbformat": 4,
 "nbformat_minor": 5
}
